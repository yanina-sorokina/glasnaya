{
 "cells": [
  {
   "cell_type": "code",
   "execution_count": null,
   "id": "f36e21d7",
   "metadata": {},
   "outputs": [],
   "source": [
    "import pandas as pd\n",
    "from tqdm import tqdm\n",
    "from time import sleep\n",
    "import matplotlib.pyplot as plt\n",
    "from collections import Counter\n",
    "import re\n",
    "import seaborn as sns\n",
    "import numpy as np"
   ]
  },
  {
   "cell_type": "code",
   "execution_count": null,
   "id": "5337e47a",
   "metadata": {},
   "outputs": [],
   "source": [
    "doctors = pd.read_excel(\"../data/doctors.xlsx\", sheet_name='main')\n",
    "nurses = pd.read_excel(\"../data/nurses.xlsx\", sheet_name='main')"
   ]
  },
  {
   "cell_type": "code",
   "execution_count": null,
   "id": "49b5dd83",
   "metadata": {},
   "outputs": [],
   "source": [
    "print(\"NaN values in 'doctors':\", doctors.isna().sum())\n",
    "print(\"NaN values in 'nurses':\", nurses.isna().sum())"
   ]
  },
  {
   "cell_type": "code",
   "execution_count": null,
   "id": "09d67a90",
   "metadata": {},
   "outputs": [],
   "source": [
    "# nurses.rename(columns={\"НЕГОСУДАРСТВЕННАЯ ФОРМА СОБСТВЕННОСТИ\": \"private\", \"ВСЕГО (по всем формам собственности)\": \"total\", \"Государственная собственность\": \"public\", \"ВСЕГО\": \"total\"}, inplace=True)\n",
    "# doctors.rename(columns={\"НЕГОСУДАРСТВЕННАЯ ФОРМА СОБСТВЕННОСТИ\": \"private\", \"ВСЕГО (по всем формам собственности)\": \"total\", \"Государственная собственность\": \"public\", \"ВСЕГО\": \"total\"}, inplace=True)"
   ]
  },
  {
   "cell_type": "code",
   "execution_count": null,
   "id": "30dbc62f",
   "metadata": {},
   "outputs": [],
   "source": [
    "doctors.head()"
   ]
  },
  {
   "cell_type": "code",
   "execution_count": null,
   "id": "7e31467b",
   "metadata": {},
   "outputs": [],
   "source": [
    "# Filter out aggregate regions\n",
    "filtered = doctors[~doctors['region'].str.contains('Российская Федерация|федеральный округ')]\n",
    "\n",
    "# Get total doctors for each region in 2016 and 2023\n",
    "total_2016 = filtered[filtered['year'] == 2016].set_index('region')['total']\n",
    "total_2023 = filtered[filtered['year'] == 2023].set_index('region')['total']\n",
    "\n",
    "# Only consider regions present in both years\n",
    "common_regions = total_2016.index.intersection(total_2023.index)\n",
    "\n",
    "# Count regions where total in 2023 < total in 2016\n",
    "shrunk_count = (total_2023[common_regions] < total_2016[common_regions]).sum()\n",
    "print(\"Number of regions where total doctors shrank in 2023 vs 2016:\", shrunk_count)"
   ]
  },
  {
   "cell_type": "code",
   "execution_count": null,
   "id": "8696056b",
   "metadata": {},
   "outputs": [],
   "source": [
    "# Exclude aggregate regions\n",
    "filtered = doctors[~doctors['region'].str.contains('Российская Федерация|федеральный округ')]\n",
    "\n",
    "# Pivot to have years as columns and regions as rows\n",
    "pivot = filtered.pivot(index='region', columns='year', values='total')\n",
    "\n",
    "def max_consecutive_decline(row):\n",
    "    declines = (row.diff() < 0).astype(int)\n",
    "    max_streak = streak = 0\n",
    "    for val in declines[1:]:\n",
    "        if val:\n",
    "            streak += 1\n",
    "            max_streak = max(max_streak, streak)\n",
    "        else:\n",
    "            streak = 0\n",
    "    return max_streak\n",
    "\n",
    "consecutive_decline = pivot.apply(max_consecutive_decline, axis=1)\n",
    "count_3plus = (consecutive_decline >= 3).sum()\n",
    "print(\"Number of regions with three or more years of consecutive decline:\", count_3plus)"
   ]
  },
  {
   "cell_type": "code",
   "execution_count": null,
   "id": "b42299e0",
   "metadata": {},
   "outputs": [],
   "source": [
    "# Exclude aggregate regions\n",
    "filtered = doctors[~doctors['region'].str.contains('Российская Федерация|федеральный округ')]\n",
    "\n",
    "# Pivot to have years as columns and regions as rows\n",
    "pivot = filtered.pivot(index='region', columns='year', values='total')\n",
    "\n",
    "# For each year (except the first), count regions where total decreased vs previous year\n",
    "loss_counts = {}\n",
    "years = sorted(pivot.columns)\n",
    "for i in range(1, len(years)):\n",
    "    prev, curr = years[i-1], years[i]\n",
    "    loss_counts[curr] = (pivot[curr] < pivot[prev]).sum()\n",
    "\n",
    "# Create a table\n",
    "loss_table = pd.DataFrame(list(loss_counts.items()), columns=['year', 'regions_lost_doctors'])\n",
    "print(\"Regions where total doctors decreased compared to previous year:\")\n",
    "print(loss_table)\n"
   ]
  },
  {
   "cell_type": "code",
   "execution_count": null,
   "id": "154b4ef2",
   "metadata": {},
   "outputs": [],
   "source": [
    "pivot.head()"
   ]
  },
  {
   "cell_type": "code",
   "execution_count": null,
   "id": "49ba7401",
   "metadata": {},
   "outputs": [],
   "source": [
    "for year in sorted(doctors['year'].unique()):\n",
    "    df_year = doctors[(doctors['year'] == year) & (~doctors['region'].str.contains('Российская Федерация')) & (~doctors['region'].str.contains('федеральный округ'))]\n",
    "    min_row = df_year.loc[df_year['total'].idxmin()]\n",
    "    max_row = df_year.loc[df_year['total'].idxmax()]\n",
    "    print(f\"{year}:\")\n",
    "    print(f\"Lowest: {min_row['region']} - {min_row['total']}\")\n",
    "    print(f\"Highest: {max_row['region']} - {max_row['total']}\")"
   ]
  },
  {
   "cell_type": "code",
   "execution_count": null,
   "id": "96213c7b",
   "metadata": {},
   "outputs": [],
   "source": [
    "doctors.columns"
   ]
  },
  {
   "cell_type": "code",
   "execution_count": null,
   "id": "d89e3daf",
   "metadata": {},
   "outputs": [],
   "source": [
    "# Calculate the percentage change in total doctors for each region between the earliest and latest year\n",
    "region_changes = doctors[~doctors['region'].str.contains('Российская Федерация|федеральный округ')].copy()\n",
    "first_year = region_changes['year'].min()\n",
    "last_year = region_changes['year'].max()\n",
    "\n",
    "first = region_changes[region_changes['year'] == first_year].set_index('region')['total']\n",
    "last = region_changes[region_changes['year'] == last_year].set_index('region')['total']\n",
    "\n",
    "# Only keep regions present in both years\n",
    "common_regions = first.index.intersection(last.index)\n",
    "pct_change = (last[common_regions] - first[common_regions]).sort_values()\n",
    "\n",
    "print(\"Regions with largest decrease:\")\n",
    "print(pct_change.head(10))\n",
    "\n",
    "print(\"\\nRegions with largest increase:\")\n",
    "print(pct_change.tail(10))"
   ]
  },
  {
   "cell_type": "code",
   "execution_count": null,
   "id": "d4e28b4c",
   "metadata": {},
   "outputs": [],
   "source": [
    "doctors['region'].unique()"
   ]
  },
  {
   "cell_type": "code",
   "execution_count": null,
   "id": "5ad8fab9",
   "metadata": {},
   "outputs": [],
   "source": [
    "# Exclude 'Тюменская область' but keep the specified subregions\n",
    "filtered_regions_tyumen = [\n",
    "    r for r in filtered_regions\n",
    "    if 'тюменская область' not in r.lower().strip() or\n",
    "       'ханты-мансийский автономный округ' in r.lower() or\n",
    "       'ямало-ненецкий автономный округ' in r.lower() or\n",
    "       'тюменская область (кроме ханты-мансийского автономного округа-югры и ямало-ненецкого автономного округа)' in r.lower()\n",
    "]"
   ]
  },
  {
   "cell_type": "code",
   "execution_count": null,
   "id": "652ca2f8",
   "metadata": {},
   "outputs": [],
   "source": [
    "# Exclude specified regions and those mentioning 'российская федерация' or 'федеральный округ'\n",
    "filtered_regions = [\n",
    "    r for r in common_regions\n",
    "    if 'российская федерация' not in r.lower()\n",
    "    and 'федеральный округ' not in r.lower()\n",
    "    and all(ex.strip() != r.strip() for ex in exclude)\n",
    "]\n",
    "\n",
    "gained = (last[filtered_regions] > first[filtered_regions]).sum()\n",
    "lost = (last[filtered_regions] < first[filtered_regions]).sum()\n",
    "unchanged = (last[filtered_regions] == first[filtered_regions]).sum()\n",
    "\n",
    "print(f\"Regions that gained doctors: {gained}\")\n",
    "print(f\"Regions that lost doctors: {lost}\")\n",
    "print(f\"Regions with no change: {unchanged}\")\n"
   ]
  },
  {
   "cell_type": "code",
   "execution_count": null,
   "id": "0f3dbc5b",
   "metadata": {},
   "outputs": [],
   "source": [
    "filtered_regions"
   ]
  },
  {
   "cell_type": "code",
   "execution_count": null,
   "id": "59418f76",
   "metadata": {},
   "outputs": [],
   "source": [
    "doctors.loc[(doctors['region'] == 'Чукотский автономный округ') & (doctors['year'] == 2023), 'total']"
   ]
  },
  {
   "cell_type": "markdown",
   "id": "35e5cbcd",
   "metadata": {},
   "source": [
    "### Nurses"
   ]
  },
  {
   "cell_type": "code",
   "execution_count": null,
   "id": "ef898443",
   "metadata": {},
   "outputs": [],
   "source": [
    "nurses.dtypes"
   ]
  },
  {
   "cell_type": "code",
   "execution_count": null,
   "id": "0f6f5366",
   "metadata": {},
   "outputs": [],
   "source": [
    "for year in sorted(nurses['year'].unique()):\n",
    "    df_year = nurses[(nurses['year'] == year) & (~nurses['region'].str.contains('Российская Федерация|федеральный округ'))]\n",
    "    min_row = df_year.loc[df_year['total'].idxmin()]\n",
    "    max_row = df_year.loc[df_year['total'].idxmax()]\n",
    "    print(f\"{year}:\")\n",
    "    print(f\"Lowest: {min_row['region']} - {min_row['total']}\")\n",
    "    print(f\"Highest: {max_row['region']} - {max_row['total']}\")"
   ]
  },
  {
   "cell_type": "code",
   "execution_count": null,
   "id": "3a6c588d",
   "metadata": {},
   "outputs": [],
   "source": [
    "# Calculate the percentage change in total nurses for each region between the earliest and latest year\n",
    "region_changes = nurses[~nurses['region'].str.contains('Российская Федерация|федеральный округ')].copy()\n",
    "first_year = region_changes['year'].min()\n",
    "last_year = region_changes['year'].max()\n",
    "\n",
    "first = region_changes[region_changes['year'] == first_year].set_index('region')['total']\n",
    "last = region_changes[region_changes['year'] == last_year].set_index('region')['total']\n",
    "\n",
    "# Only keep regions present in both years\n",
    "common_regions = first.index.intersection(last.index)\n",
    "pct_change = ((last[common_regions] - first[common_regions]) / first[common_regions] * 100).sort_values()\n",
    "\n",
    "print(\"Regions with largest percentage decrease:\")\n",
    "print(pct_change.head(10))\n",
    "\n",
    "print(\"\\nRegions with largest percentage increase:\")\n",
    "print(pct_change.tail(10))"
   ]
  },
  {
   "cell_type": "code",
   "execution_count": null,
   "id": "8169da1f",
   "metadata": {},
   "outputs": [],
   "source": [
    "# Calculate the change in total nurses for each region between the earliest and latest year\n",
    "region_changes = nurses[~nurses['region'].str.contains('Российская Федерация|федеральный округ')].copy()\n",
    "first_year = region_changes['year'].min()\n",
    "last_year = region_changes['year'].max()\n",
    "\n",
    "first = region_changes[region_changes['year'] == first_year].set_index('region')['total']\n",
    "last = region_changes[region_changes['year'] == last_year].set_index('region')['total']\n",
    "\n",
    "# Only keep regions present in both years\n",
    "common_regions = first.index.intersection(last.index)\n",
    "pct_change = (last[common_regions] - first[common_regions]).sort_values()\n",
    "\n",
    "print(\"Regions with largest percentage decrease:\")\n",
    "print(pct_change.head(10))\n",
    "\n",
    "print(\"\\nRegions with largest percentage increase:\")\n",
    "print(pct_change.tail(10))"
   ]
  }
 ],
 "metadata": {
  "kernelspec": {
   "display_name": "APIs-v8A237SD",
   "language": "python",
   "name": "python3"
  },
  "language_info": {
   "codemirror_mode": {
    "name": "ipython",
    "version": 3
   },
   "file_extension": ".py",
   "mimetype": "text/x-python",
   "name": "python",
   "nbconvert_exporter": "python",
   "pygments_lexer": "ipython3",
   "version": "3.9.21"
  }
 },
 "nbformat": 4,
 "nbformat_minor": 5
}
