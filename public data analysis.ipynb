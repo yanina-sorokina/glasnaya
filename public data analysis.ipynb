{
 "cells": [
  {
   "cell_type": "code",
   "execution_count": 3,
   "id": "f36e21d7",
   "metadata": {},
   "outputs": [],
   "source": [
    "import pandas as pd\n",
    "from tqdm import tqdm\n",
    "from time import sleep\n",
    "import matplotlib.pyplot as plt\n",
    "from collections import Counter\n",
    "import re\n",
    "import seaborn as sns\n",
    "import numpy as np"
   ]
  },
  {
   "cell_type": "code",
   "execution_count": 4,
   "id": "5337e47a",
   "metadata": {},
   "outputs": [],
   "source": [
    "doctors = pd.read_excel(\"../data/doctors.xlsx\", sheet_name='main')\n",
    "nurses = pd.read_excel(\"../data/nurses.xlsx\", sheet_name='main')"
   ]
  },
  {
   "cell_type": "code",
   "execution_count": 32,
   "id": "49b5dd83",
   "metadata": {},
   "outputs": [
    {
     "name": "stdout",
     "output_type": "stream",
     "text": [
      "NaN values in 'doctors': year       0\n",
      "region     0\n",
      "private    0\n",
      "total      0\n",
      "public     0\n",
      "dtype: int64\n",
      "NaN values in 'nurses': year       0\n",
      "region     0\n",
      "private    0\n",
      "public     0\n",
      "total      0\n",
      "dtype: int64\n"
     ]
    }
   ],
   "source": [
    "print(\"NaN values in 'doctors':\", doctors.isna().sum())\n",
    "print(\"NaN values in 'nurses':\", nurses.isna().sum())"
   ]
  },
  {
   "cell_type": "code",
   "execution_count": null,
   "id": "09d67a90",
   "metadata": {},
   "outputs": [],
   "source": [
    "# nurses.rename(columns={\"НЕГОСУДАРСТВЕННАЯ ФОРМА СОБСТВЕННОСТИ\": \"private\", \"ВСЕГО (по всем формам собственности)\": \"total\", \"Государственная собственность\": \"public\", \"ВСЕГО\": \"total\"}, inplace=True)\n",
    "# doctors.rename(columns={\"НЕГОСУДАРСТВЕННАЯ ФОРМА СОБСТВЕННОСТИ\": \"private\", \"ВСЕГО (по всем формам собственности)\": \"total\", \"Государственная собственность\": \"public\", \"ВСЕГО\": \"total\"}, inplace=True)"
   ]
  },
  {
   "cell_type": "code",
   "execution_count": 33,
   "id": "30dbc62f",
   "metadata": {},
   "outputs": [
    {
     "data": {
      "text/html": [
       "<div>\n",
       "<style scoped>\n",
       "    .dataframe tbody tr th:only-of-type {\n",
       "        vertical-align: middle;\n",
       "    }\n",
       "\n",
       "    .dataframe tbody tr th {\n",
       "        vertical-align: top;\n",
       "    }\n",
       "\n",
       "    .dataframe thead th {\n",
       "        text-align: right;\n",
       "    }\n",
       "</style>\n",
       "<table border=\"1\" class=\"dataframe\">\n",
       "  <thead>\n",
       "    <tr style=\"text-align: right;\">\n",
       "      <th></th>\n",
       "      <th>year</th>\n",
       "      <th>region</th>\n",
       "      <th>private</th>\n",
       "      <th>total</th>\n",
       "      <th>public</th>\n",
       "    </tr>\n",
       "  </thead>\n",
       "  <tbody>\n",
       "    <tr>\n",
       "      <th>0</th>\n",
       "      <td>2016</td>\n",
       "      <td>Российская Федерация</td>\n",
       "      <td>4760</td>\n",
       "      <td>43249</td>\n",
       "      <td>38027</td>\n",
       "    </tr>\n",
       "    <tr>\n",
       "      <th>1</th>\n",
       "      <td>2016</td>\n",
       "      <td>Центральный федеральный округ</td>\n",
       "      <td>1492</td>\n",
       "      <td>11404</td>\n",
       "      <td>9786</td>\n",
       "    </tr>\n",
       "    <tr>\n",
       "      <th>2</th>\n",
       "      <td>2016</td>\n",
       "      <td>Белгородская область</td>\n",
       "      <td>31</td>\n",
       "      <td>480</td>\n",
       "      <td>446</td>\n",
       "    </tr>\n",
       "    <tr>\n",
       "      <th>3</th>\n",
       "      <td>2016</td>\n",
       "      <td>Брянская область</td>\n",
       "      <td>30</td>\n",
       "      <td>324</td>\n",
       "      <td>294</td>\n",
       "    </tr>\n",
       "    <tr>\n",
       "      <th>4</th>\n",
       "      <td>2016</td>\n",
       "      <td>Владимирская область</td>\n",
       "      <td>38</td>\n",
       "      <td>348</td>\n",
       "      <td>307</td>\n",
       "    </tr>\n",
       "  </tbody>\n",
       "</table>\n",
       "</div>"
      ],
      "text/plain": [
       "   year                             region  private  total  public\n",
       "0  2016               Российская Федерация     4760  43249   38027\n",
       "1  2016      Центральный федеральный округ     1492  11404    9786\n",
       "2  2016               Белгородская область       31    480     446\n",
       "3  2016                   Брянская область       30    324     294\n",
       "4  2016               Владимирская область       38    348     307"
      ]
     },
     "execution_count": 33,
     "metadata": {},
     "output_type": "execute_result"
    }
   ],
   "source": [
    "doctors.head()"
   ]
  },
  {
   "cell_type": "code",
   "execution_count": null,
   "id": "7e31467b",
   "metadata": {},
   "outputs": [
    {
     "name": "stdout",
     "output_type": "stream",
     "text": [
      "Number of regions where total doctors shrank in 2023 vs 2016: 66\n"
     ]
    }
   ],
   "source": [
    "# Filter out aggregate regions\n",
    "filtered = doctors[~doctors['region'].str.contains('Российская Федерация|федеральный округ')]\n",
    "\n",
    "# Get total doctors for each region in 2016 and 2023\n",
    "total_2016 = filtered[filtered['year'] == 2016].set_index('region')['total']\n",
    "total_2023 = filtered[filtered['year'] == 2023].set_index('region')['total']\n",
    "\n",
    "# Only consider regions present in both years\n",
    "common_regions = total_2016.index.intersection(total_2023.index)\n",
    "\n",
    "# Count regions where total in 2023 < total in 2016\n",
    "shrunk_count = (total_2023[common_regions] < total_2016[common_regions]).sum()\n",
    "print(\"Number of regions where total doctors shrank in 2023 vs 2016:\", shrunk_count)"
   ]
  },
  {
   "cell_type": "code",
   "execution_count": 5,
   "id": "8696056b",
   "metadata": {},
   "outputs": [
    {
     "name": "stdout",
     "output_type": "stream",
     "text": [
      "Number of regions with three or more years of consecutive decline: 42\n"
     ]
    }
   ],
   "source": [
    "# Exclude aggregate regions\n",
    "filtered = doctors[~doctors['region'].str.contains('Российская Федерация|федеральный округ')]\n",
    "\n",
    "# Pivot to have years as columns and regions as rows\n",
    "pivot = filtered.pivot(index='region', columns='year', values='total')\n",
    "\n",
    "def max_consecutive_decline(row):\n",
    "    declines = (row.diff() < 0).astype(int)\n",
    "    max_streak = streak = 0\n",
    "    for val in declines[1:]:\n",
    "        if val:\n",
    "            streak += 1\n",
    "            max_streak = max(max_streak, streak)\n",
    "        else:\n",
    "            streak = 0\n",
    "    return max_streak\n",
    "\n",
    "consecutive_decline = pivot.apply(max_consecutive_decline, axis=1)\n",
    "count_3plus = (consecutive_decline >= 3).sum()\n",
    "print(\"Number of regions with three or more years of consecutive decline:\", count_3plus)"
   ]
  },
  {
   "cell_type": "code",
   "execution_count": 35,
   "id": "b42299e0",
   "metadata": {},
   "outputs": [
    {
     "name": "stdout",
     "output_type": "stream",
     "text": [
      "Regions where total doctors decreased compared to previous year:\n",
      "   year  regions_lost_doctors\n",
      "0  2017                    26\n",
      "1  2018                    55\n",
      "2  2019                    56\n",
      "3  2020                    50\n",
      "4  2021                    50\n",
      "5  2022                    59\n",
      "6  2023                    38\n"
     ]
    }
   ],
   "source": [
    "# Exclude aggregate regions\n",
    "filtered = doctors[~doctors['region'].str.contains('Российская Федерация|федеральный округ')]\n",
    "\n",
    "# Pivot to have years as columns and regions as rows\n",
    "pivot = filtered.pivot(index='region', columns='year', values='total')\n",
    "\n",
    "# For each year (except the first), count regions where total decreased vs previous year\n",
    "loss_counts = {}\n",
    "years = sorted(pivot.columns)\n",
    "for i in range(1, len(years)):\n",
    "    prev, curr = years[i-1], years[i]\n",
    "    loss_counts[curr] = (pivot[curr] < pivot[prev]).sum()\n",
    "\n",
    "# Create a table\n",
    "loss_table = pd.DataFrame(list(loss_counts.items()), columns=['year', 'regions_lost_doctors'])\n",
    "print(\"Regions where total doctors decreased compared to previous year:\")\n",
    "print(loss_table)\n"
   ]
  },
  {
   "cell_type": "code",
   "execution_count": 1,
   "id": "154b4ef2",
   "metadata": {},
   "outputs": [
    {
     "ename": "NameError",
     "evalue": "name 'pivot' is not defined",
     "output_type": "error",
     "traceback": [
      "\u001b[0;31m---------------------------------------------------------------------------\u001b[0m",
      "\u001b[0;31mNameError\u001b[0m                                 Traceback (most recent call last)",
      "Cell \u001b[0;32mIn[1], line 1\u001b[0m\n\u001b[0;32m----> 1\u001b[0m \u001b[43mpivot\u001b[49m\u001b[38;5;241m.\u001b[39mhead()\n",
      "\u001b[0;31mNameError\u001b[0m: name 'pivot' is not defined"
     ]
    }
   ],
   "source": [
    "pivot.head()"
   ]
  },
  {
   "cell_type": "code",
   "execution_count": 9,
   "id": "49ba7401",
   "metadata": {},
   "outputs": [
    {
     "name": "stdout",
     "output_type": "stream",
     "text": [
      "2016:\n",
      "Lowest:             Ненецкий автономный округ (Архангельская область) - 11\n",
      "Highest:         Город Москва столица Российской Федерации город федерального значения - 3994\n",
      "2017:\n",
      "Lowest:             Ненецкий автономный округ (Архангельская область) - 12\n",
      "Highest:         Город Москва столица Российской Федерации город федерального значения - 4027\n",
      "2018:\n",
      "Lowest:             Ненецкий автономный округ (Архангельская область) - 14\n",
      "Highest:         Город Москва столица Российской Федерации город федерального значения - 4184\n",
      "2019:\n",
      "Lowest:             Ненецкий автономный округ (Архангельская область) - 15\n",
      "Highest:         Город Москва столица Российской Федерации город федерального значения - 4327\n",
      "2020:\n",
      "Lowest:             Ненецкий автономный округ (Архангельская область) - 12\n",
      "Highest:         Город Москва столица Российской Федерации город федерального значения - 4655\n",
      "2021:\n",
      "Lowest:             Ненецкий автономный округ (Архангельская область) - 15\n",
      "Highest:         Город Москва столица Российской Федерации город федерального значения - 4847\n",
      "2022:\n",
      "Lowest:             Ненецкий автономный округ (Архангельская область) - 14\n",
      "Highest:         Город Москва столица Российской Федерации город федерального значения - 4987\n",
      "2023:\n",
      "Lowest:             Ненецкий автономный округ (Архангельская область) - 15\n",
      "Highest:         Город Москва столица Российской Федерации город федерального значения - 5079\n"
     ]
    }
   ],
   "source": [
    "for year in sorted(doctors['year'].unique()):\n",
    "    df_year = doctors[(doctors['year'] == year) & (~doctors['region'].str.contains('Российская Федерация')) & (~doctors['region'].str.contains('федеральный округ'))]\n",
    "    min_row = df_year.loc[df_year['total'].idxmin()]\n",
    "    max_row = df_year.loc[df_year['total'].idxmax()]\n",
    "    print(f\"{year}:\")\n",
    "    print(f\"Lowest: {min_row['region']} - {min_row['total']}\")\n",
    "    print(f\"Highest: {max_row['region']} - {max_row['total']}\")"
   ]
  },
  {
   "cell_type": "code",
   "execution_count": 11,
   "id": "96213c7b",
   "metadata": {},
   "outputs": [
    {
     "data": {
      "text/plain": [
       "Index(['year', 'region', 'private', 'total', 'public'], dtype='object')"
      ]
     },
     "execution_count": 11,
     "metadata": {},
     "output_type": "execute_result"
    }
   ],
   "source": [
    "doctors.columns"
   ]
  },
  {
   "cell_type": "code",
   "execution_count": 15,
   "id": "d89e3daf",
   "metadata": {},
   "outputs": [
    {
     "name": "stdout",
     "output_type": "stream",
     "text": [
      "Regions with largest decrease:\n",
      "region\n",
      "Саратовская область                                              -130\n",
      "Пермский край                                                    -107\n",
      "Оренбургская область                                             -104\n",
      "Самарская область                                                 -95\n",
      "Нижегородская область                                             -82\n",
      "Кемеровская область - Кузбасс                                     -80\n",
      "Алтайский край                                                    -76\n",
      "Омская область                                                    -75\n",
      "Хабаровский край                                                  -71\n",
      "    Архангельская область (кроме Ненецкого автономного округа)    -69\n",
      "Name: total, dtype: int64\n",
      "\n",
      "Regions with largest increase:\n",
      "region\n",
      "Республика Ингушетия                                                       32\n",
      "    Ямало-Ненецкий автономный округ (Тюменская область)                    37\n",
      "Тамбовская область                                                         49\n",
      "Тюменская область                                                          56\n",
      "Ленинградская область                                                      79\n",
      "Республика Дагестан                                                        86\n",
      "Краснодарский край                                                        160\n",
      "Город Санкт-Петербург город федерального значения                         411\n",
      "Московская область                                                        529\n",
      "Город Москва столица Российской Федерации город федерального значения    1085\n",
      "Name: total, dtype: int64\n"
     ]
    }
   ],
   "source": [
    "# Calculate the percentage change in total doctors for each region between the earliest and latest year\n",
    "region_changes = doctors[~doctors['region'].str.contains('Российская Федерация|федеральный округ')].copy()\n",
    "first_year = region_changes['year'].min()\n",
    "last_year = region_changes['year'].max()\n",
    "\n",
    "first = region_changes[region_changes['year'] == first_year].set_index('region')['total']\n",
    "last = region_changes[region_changes['year'] == last_year].set_index('region')['total']\n",
    "\n",
    "# Only keep regions present in both years\n",
    "common_regions = first.index.intersection(last.index)\n",
    "pct_change = (last[common_regions] - first[common_regions]).sort_values()\n",
    "\n",
    "print(\"Regions with largest decrease:\")\n",
    "print(pct_change.head(10))\n",
    "\n",
    "print(\"\\nRegions with largest increase:\")\n",
    "print(pct_change.tail(10))"
   ]
  },
  {
   "cell_type": "code",
   "execution_count": 20,
   "id": "d4e28b4c",
   "metadata": {},
   "outputs": [
    {
     "data": {
      "text/plain": [
       "array(['Российская Федерация', '    Центральный федеральный округ',\n",
       "       '        Белгородская область', '        Брянская область',\n",
       "       '        Владимирская область', '        Воронежская область',\n",
       "       '        Ивановская область', '        Калужская область',\n",
       "       '        Костромская область', '        Курская область',\n",
       "       '        Липецкая область', '        Московская область',\n",
       "       '        Орловская область', '        Рязанская область',\n",
       "       '        Смоленская область', '        Тамбовская область',\n",
       "       '        Тверская область', '        Тульская область',\n",
       "       '        Ярославская область',\n",
       "       '        Город Москва столица Российской Федерации город федерального значения',\n",
       "       '    Северо-Западный федеральный округ',\n",
       "       '        Республика Карелия', '        Республика Коми',\n",
       "       '        Архангельская область',\n",
       "       '            Ненецкий автономный округ (Архангельская область)',\n",
       "       '            Архангельская область (кроме Ненецкого автономного округа)',\n",
       "       '        Вологодская область', '        Калининградская область',\n",
       "       '        Ленинградская область', '        Мурманская область',\n",
       "       '        Новгородская область', '        Псковская область',\n",
       "       '        Город Санкт-Петербург город федерального значения',\n",
       "       '    Южный федеральный округ (с 29.07.2016)',\n",
       "       '        Республика Адыгея (Адыгея)',\n",
       "       '        Республика Калмыкия', '        Республика Крым',\n",
       "       '        Краснодарский край', '        Астраханская область',\n",
       "       '        Волгоградская область', '        Ростовская область',\n",
       "       '        Город федерального значения Севастополь',\n",
       "       '    Северо-Кавказский федеральный округ',\n",
       "       '        Республика Дагестан', '        Республика Ингушетия',\n",
       "       '        Кабардино-Балкарская Республика',\n",
       "       '        Карачаево-Черкесская Республика',\n",
       "       '        Республика Северная Осетия-Алания',\n",
       "       '        Чеченская Республика', '        Ставропольский край',\n",
       "       '    Приволжский федеральный округ',\n",
       "       '        Республика Башкортостан', '        Республика Марий Эл',\n",
       "       '        Республика Мордовия',\n",
       "       '        Республика Татарстан (Татарстан)',\n",
       "       '        Удмуртская Республика',\n",
       "       '        Чувашская Республика - Чувашия', '        Пермский край',\n",
       "       '        Кировская область', '        Нижегородская область',\n",
       "       '        Оренбургская область', '        Пензенская область',\n",
       "       '        Самарская область', '        Саратовская область',\n",
       "       '        Ульяновская область', '    Уральский федеральный округ',\n",
       "       '        Курганская область', '        Свердловская область',\n",
       "       '        Тюменская область',\n",
       "       '            Ханты-Мансийский автономный округ - Югра (Тюменская область)',\n",
       "       '            Ямало-Ненецкий автономный округ (Тюменская область)',\n",
       "       '            Тюменская область (кроме Ханты-Мансийского автономного округа-Югры и Ямало-Ненецкого автономного округа)',\n",
       "       '        Челябинская область', '    Сибирский федеральный округ',\n",
       "       '        Республика Алтай', '        Республика Тыва',\n",
       "       '        Республика Хакасия', '        Алтайский край',\n",
       "       '        Красноярский край', '        Иркутская область',\n",
       "       '        Кемеровская область - Кузбасс',\n",
       "       '        Новосибирская область', '        Омская область',\n",
       "       '        Томская область', '    Дальневосточный федеральный округ',\n",
       "       '        Республика Бурятия', '        Забайкальский край',\n",
       "       '        Республика Саха (Якутия)', '        Камчатский край',\n",
       "       '        Приморский край', '        Хабаровский край',\n",
       "       '        Амурская область', '        Магаданская область',\n",
       "       '        Сахалинская область',\n",
       "       '        Еврейская автономная область',\n",
       "       '        Чукотский автономный округ',\n",
       "       '    Сибирский федеральный округ (с 03.11.2018)',\n",
       "       '    Дальневосточный федеральный округ (с 03.11.2018)',\n",
       "       '    Российская Федерация без учета новых субъектов (с 01.01.2023)'],\n",
       "      dtype=object)"
      ]
     },
     "execution_count": 20,
     "metadata": {},
     "output_type": "execute_result"
    }
   ],
   "source": [
    "doctors['region'].unique()"
   ]
  },
  {
   "cell_type": "code",
   "execution_count": null,
   "id": "5ad8fab9",
   "metadata": {},
   "outputs": [],
   "source": [
    "# Exclude 'Тюменская область' but keep the specified subregions\n",
    "filtered_regions_tyumen = [\n",
    "    r for r in filtered_regions\n",
    "    if 'тюменская область' not in r.lower().strip() or\n",
    "       'ханты-мансийский автономный округ' in r.lower() or\n",
    "       'ямало-ненецкий автономный округ' in r.lower() or\n",
    "       'тюменская область (кроме ханты-мансийского автономного округа-югры и ямало-ненецкого автономного округа)' in r.lower()\n",
    "]"
   ]
  },
  {
   "cell_type": "code",
   "execution_count": null,
   "id": "652ca2f8",
   "metadata": {},
   "outputs": [
    {
     "name": "stdout",
     "output_type": "stream",
     "text": [
      "Regions that gained doctors: 15\n",
      "Regions that lost doctors: 64\n",
      "Regions with no change: 1\n"
     ]
    }
   ],
   "source": [
    "# Exclude specified regions and those mentioning 'российская федерация' or 'федеральный округ'\n",
    "filtered_regions = [\n",
    "    r for r in common_regions\n",
    "    if 'российская федерация' not in r.lower()\n",
    "    and 'федеральный округ' not in r.lower()\n",
    "    and all(ex.strip() != r.strip() for ex in exclude)\n",
    "]\n",
    "\n",
    "gained = (last[filtered_regions] > first[filtered_regions]).sum()\n",
    "lost = (last[filtered_regions] < first[filtered_regions]).sum()\n",
    "unchanged = (last[filtered_regions] == first[filtered_regions]).sum()\n",
    "\n",
    "print(f\"Regions that gained doctors: {gained}\")\n",
    "print(f\"Regions that lost doctors: {lost}\")\n",
    "print(f\"Regions with no change: {unchanged}\")\n"
   ]
  },
  {
   "cell_type": "code",
   "execution_count": 25,
   "id": "0f3dbc5b",
   "metadata": {},
   "outputs": [
    {
     "data": {
      "text/plain": [
       "['        Белгородская область',\n",
       " '        Брянская область',\n",
       " '        Владимирская область',\n",
       " '        Воронежская область',\n",
       " '        Ивановская область',\n",
       " '        Калужская область',\n",
       " '        Костромская область',\n",
       " '        Курская область',\n",
       " '        Липецкая область',\n",
       " '        Московская область',\n",
       " '        Орловская область',\n",
       " '        Рязанская область',\n",
       " '        Смоленская область',\n",
       " '        Тамбовская область',\n",
       " '        Тверская область',\n",
       " '        Тульская область',\n",
       " '        Ярославская область',\n",
       " '        Город Москва столица Российской Федерации город федерального значения',\n",
       " '        Республика Карелия',\n",
       " '        Республика Коми',\n",
       " '        Архангельская область',\n",
       " '            Ненецкий автономный округ (Архангельская область)',\n",
       " '            Архангельская область (кроме Ненецкого автономного округа)',\n",
       " '        Вологодская область',\n",
       " '        Калининградская область',\n",
       " '        Ленинградская область',\n",
       " '        Мурманская область',\n",
       " '        Новгородская область',\n",
       " '        Псковская область',\n",
       " '        Город Санкт-Петербург город федерального значения',\n",
       " '        Республика Адыгея (Адыгея)',\n",
       " '        Республика Калмыкия',\n",
       " '        Республика Крым',\n",
       " '        Краснодарский край',\n",
       " '        Астраханская область',\n",
       " '        Волгоградская область',\n",
       " '        Ростовская область',\n",
       " '        Город федерального значения Севастополь',\n",
       " '        Республика Дагестан',\n",
       " '        Республика Ингушетия',\n",
       " '        Кабардино-Балкарская Республика',\n",
       " '        Карачаево-Черкесская Республика',\n",
       " '        Республика Северная Осетия-Алания',\n",
       " '        Чеченская Республика',\n",
       " '        Ставропольский край',\n",
       " '        Республика Башкортостан',\n",
       " '        Республика Марий Эл',\n",
       " '        Республика Мордовия',\n",
       " '        Республика Татарстан (Татарстан)',\n",
       " '        Удмуртская Республика',\n",
       " '        Чувашская Республика - Чувашия',\n",
       " '        Пермский край',\n",
       " '        Кировская область',\n",
       " '        Нижегородская область',\n",
       " '        Оренбургская область',\n",
       " '        Пензенская область',\n",
       " '        Самарская область',\n",
       " '        Саратовская область',\n",
       " '        Ульяновская область',\n",
       " '        Курганская область',\n",
       " '        Свердловская область',\n",
       " '        Тюменская область',\n",
       " '            Ханты-Мансийский автономный округ - Югра (Тюменская область)',\n",
       " '            Ямало-Ненецкий автономный округ (Тюменская область)',\n",
       " '            Тюменская область (кроме Ханты-Мансийского автономного округа-Югры и Ямало-Ненецкого автономного округа)',\n",
       " '        Челябинская область',\n",
       " '        Республика Алтай',\n",
       " '        Республика Тыва',\n",
       " '        Республика Хакасия',\n",
       " '        Алтайский край',\n",
       " '        Красноярский край',\n",
       " '        Иркутская область',\n",
       " '        Кемеровская область - Кузбасс',\n",
       " '        Новосибирская область',\n",
       " '        Омская область',\n",
       " '        Томская область',\n",
       " '        Республика Бурятия',\n",
       " '        Забайкальский край',\n",
       " '        Республика Саха (Якутия)',\n",
       " '        Камчатский край',\n",
       " '        Приморский край',\n",
       " '        Хабаровский край',\n",
       " '        Амурская область',\n",
       " '        Магаданская область',\n",
       " '        Сахалинская область',\n",
       " '        Еврейская автономная область',\n",
       " '        Чукотский автономный округ']"
      ]
     },
     "execution_count": 25,
     "metadata": {},
     "output_type": "execute_result"
    }
   ],
   "source": [
    "filtered_regions"
   ]
  },
  {
   "cell_type": "code",
   "execution_count": 18,
   "id": "59418f76",
   "metadata": {},
   "outputs": [
    {
     "data": {
      "text/plain": [
       "Series([], Name: total, dtype: int64)"
      ]
     },
     "execution_count": 18,
     "metadata": {},
     "output_type": "execute_result"
    }
   ],
   "source": [
    "doctors.loc[(doctors['region'] == 'Чукотский автономный округ') & (doctors['year'] == 2023), 'total']"
   ]
  },
  {
   "cell_type": "markdown",
   "id": "35e5cbcd",
   "metadata": {},
   "source": [
    "### Nurses"
   ]
  },
  {
   "cell_type": "code",
   "execution_count": 35,
   "id": "ef898443",
   "metadata": {},
   "outputs": [
    {
     "data": {
      "text/plain": [
       "year         int64\n",
       "region      object\n",
       "private    float64\n",
       "public       int64\n",
       "total        int64\n",
       "dtype: object"
      ]
     },
     "execution_count": 35,
     "metadata": {},
     "output_type": "execute_result"
    }
   ],
   "source": [
    "nurses.dtypes"
   ]
  },
  {
   "cell_type": "code",
   "execution_count": 36,
   "id": "0f6f5366",
   "metadata": {},
   "outputs": [
    {
     "name": "stdout",
     "output_type": "stream",
     "text": [
      "2016:\n",
      "Lowest:             Ненецкий автономный округ (Архангельская область) - 20\n",
      "Highest:         Город Москва столица Российской Федерации город федерального значения - 2829\n",
      "2017:\n",
      "Lowest:             Ненецкий автономный округ (Архангельская область) - 18\n",
      "Highest:         Город Москва столица Российской Федерации город федерального значения - 2928\n",
      "2018:\n",
      "Lowest:             Ненецкий автономный округ (Архангельская область) - 19\n",
      "Highest:         Город Москва столица Российской Федерации город федерального значения - 2891\n",
      "2019:\n",
      "Lowest:             Ненецкий автономный округ (Архангельская область) - 18\n",
      "Highest:         Город Москва столица Российской Федерации город федерального значения - 3000\n",
      "2020:\n",
      "Lowest:             Ненецкий автономный округ (Архангельская область) - 17\n",
      "Highest:         Город Москва столица Российской Федерации город федерального значения - 2999\n",
      "2021:\n",
      "Lowest:             Ненецкий автономный округ (Архангельская область) - 22\n",
      "Highest:         Город Москва столица Российской Федерации город федерального значения - 2781\n",
      "2022:\n",
      "Lowest:             Ненецкий автономный округ (Архангельская область) - 18\n",
      "Highest:         Город Москва столица Российской Федерации город федерального значения - 2725\n",
      "2023:\n",
      "Lowest:             Ненецкий автономный округ (Архангельская область) - 17\n",
      "Highest:         Город Москва столица Российской Федерации город федерального значения - 3391\n"
     ]
    }
   ],
   "source": [
    "for year in sorted(nurses['year'].unique()):\n",
    "    df_year = nurses[(nurses['year'] == year) & (~nurses['region'].str.contains('Российская Федерация|федеральный округ'))]\n",
    "    min_row = df_year.loc[df_year['total'].idxmin()]\n",
    "    max_row = df_year.loc[df_year['total'].idxmax()]\n",
    "    print(f\"{year}:\")\n",
    "    print(f\"Lowest: {min_row['region']} - {min_row['total']}\")\n",
    "    print(f\"Highest: {max_row['region']} - {max_row['total']}\")"
   ]
  },
  {
   "cell_type": "code",
   "execution_count": 8,
   "id": "3a6c588d",
   "metadata": {},
   "outputs": [
    {
     "name": "stdout",
     "output_type": "stream",
     "text": [
      "Regions with largest percentage decrease:\n",
      "region\n",
      "Город федерального значения Севастополь                          -63.009404\n",
      "Новгородская область                                             -56.146179\n",
      "Еврейская автономная область                                     -42.222222\n",
      "Псковская область                                                -41.409692\n",
      "Удмуртская Республика                                            -39.335477\n",
      "Республика Калмыкия                                              -38.125000\n",
      "Кемеровская область - Кузбасс                                    -37.430168\n",
      "    Архангельская область (кроме Ненецкого автономного округа)   -37.401575\n",
      "Архангельская область                                            -36.553030\n",
      "Тверская область                                                 -36.178862\n",
      "Name: total, dtype: float64\n",
      "\n",
      "Regions with largest percentage increase:\n",
      "region\n",
      "Калининградская область                                                                                         -5.809129\n",
      "Чукотский автономный округ                                                                                      -2.702703\n",
      "Республика Дагестан                                                                                             -2.094496\n",
      "    Ямало-Ненецкий автономный округ (Тюменская область)                                                         -1.557632\n",
      "Тюменская область                                                                                               -1.158301\n",
      "Республика Ингушетия                                                                                             0.000000\n",
      "Город Санкт-Петербург город федерального значения                                                                3.391053\n",
      "Тамбовская область                                                                                               4.712042\n",
      "    Тюменская область (кроме Ханты-Мансийского автономного округа-Югры и Ямало-Ненецкого автономного округа)    15.407407\n",
      "Город Москва столица Российской Федерации город федерального значения                                           19.865677\n",
      "Name: total, dtype: float64\n"
     ]
    }
   ],
   "source": [
    "# Calculate the percentage change in total nurses for each region between the earliest and latest year\n",
    "region_changes = nurses[~nurses['region'].str.contains('Российская Федерация|федеральный округ')].copy()\n",
    "first_year = region_changes['year'].min()\n",
    "last_year = region_changes['year'].max()\n",
    "\n",
    "first = region_changes[region_changes['year'] == first_year].set_index('region')['total']\n",
    "last = region_changes[region_changes['year'] == last_year].set_index('region')['total']\n",
    "\n",
    "# Only keep regions present in both years\n",
    "common_regions = first.index.intersection(last.index)\n",
    "pct_change = ((last[common_regions] - first[common_regions]) / first[common_regions] * 100).sort_values()\n",
    "\n",
    "print(\"Regions with largest percentage decrease:\")\n",
    "print(pct_change.head(10))\n",
    "\n",
    "print(\"\\nRegions with largest percentage increase:\")\n",
    "print(pct_change.tail(10))"
   ]
  },
  {
   "cell_type": "code",
   "execution_count": 9,
   "id": "8169da1f",
   "metadata": {},
   "outputs": [
    {
     "name": "stdout",
     "output_type": "stream",
     "text": [
      "Regions with largest percentage decrease:\n",
      "region\n",
      "Республика Башкортостан            -508\n",
      "Краснодарский край                 -484\n",
      "Кемеровская область - Кузбасс      -402\n",
      "Удмуртская Республика              -367\n",
      "Республика Татарстан (Татарстан)   -359\n",
      "Нижегородская область              -355\n",
      "Волгоградская область              -340\n",
      "Алтайский край                     -316\n",
      "Ставропольский край                -295\n",
      "Свердловская область               -278\n",
      "Name: total, dtype: int64\n",
      "\n",
      "Regions with largest percentage increase:\n",
      "region\n",
      "Калининградская область                                                                                         -14\n",
      "Магаданская область                                                                                             -12\n",
      "    Ямало-Ненецкий автономный округ (Тюменская область)                                                          -5\n",
      "    Ненецкий автономный округ (Архангельская область)                                                            -3\n",
      "Чукотский автономный округ                                                                                       -1\n",
      "Республика Ингушетия                                                                                              0\n",
      "Тамбовская область                                                                                               18\n",
      "Город Санкт-Петербург город федерального значения                                                                47\n",
      "    Тюменская область (кроме Ханты-Мансийского автономного округа-Югры и Ямало-Ненецкого автономного округа)    104\n",
      "Город Москва столица Российской Федерации город федерального значения                                           562\n",
      "Name: total, dtype: int64\n"
     ]
    }
   ],
   "source": [
    "# Calculate the change in total nurses for each region between the earliest and latest year\n",
    "region_changes = nurses[~nurses['region'].str.contains('Российская Федерация|федеральный округ')].copy()\n",
    "first_year = region_changes['year'].min()\n",
    "last_year = region_changes['year'].max()\n",
    "\n",
    "first = region_changes[region_changes['year'] == first_year].set_index('region')['total']\n",
    "last = region_changes[region_changes['year'] == last_year].set_index('region')['total']\n",
    "\n",
    "# Only keep regions present in both years\n",
    "common_regions = first.index.intersection(last.index)\n",
    "pct_change = (last[common_regions] - first[common_regions]).sort_values()\n",
    "\n",
    "print(\"Regions with largest percentage decrease:\")\n",
    "print(pct_change.head(10))\n",
    "\n",
    "print(\"\\nRegions with largest percentage increase:\")\n",
    "print(pct_change.tail(10))"
   ]
  }
 ],
 "metadata": {
  "kernelspec": {
   "display_name": "APIs-v8A237SD",
   "language": "python",
   "name": "python3"
  },
  "language_info": {
   "codemirror_mode": {
    "name": "ipython",
    "version": 3
   },
   "file_extension": ".py",
   "mimetype": "text/x-python",
   "name": "python",
   "nbconvert_exporter": "python",
   "pygments_lexer": "ipython3",
   "version": "3.9.21"
  }
 },
 "nbformat": 4,
 "nbformat_minor": 5
}
