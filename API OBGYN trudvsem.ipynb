{
 "cells": [
  {
   "cell_type": "code",
   "execution_count": null,
   "metadata": {},
   "outputs": [],
   "source": [
    "import pandas as pd\n",
    "import json\n",
    "from flatten_json import flatten\n",
    "import requests\n",
    "import math\n",
    "from tqdm import tqdm\n",
    "from time import sleep\n",
    "# import matplotlib.pyplot as plt\n",
    "from collections import Counter\n",
    "import re\n",
    "# import seaborn as sns\n",
    "# from matplotlib.dates import MonthLocator\n",
    "# from matplotlib.ticker import PercentFormatter\n",
    "import statistics\n",
    "import numpy as np"
   ]
  },
  {
   "cell_type": "markdown",
   "metadata": {},
   "source": [
    "## Скачивание вакансий \"Работа в России\""
   ]
  },
  {
   "cell_type": "code",
   "execution_count": null,
   "metadata": {},
   "outputs": [],
   "source": [
    "def get_salaries_by_region(**kwargs):\n",
    "    url = f\"http://opendata.trudvsem.ru/api/v1/vacancies\"\n",
    "    \n",
    "    params = {**kwargs}\n",
    "    # date_params = {start: \"01-01-2019\"}\n",
    "    data = requests.get(url, params).json()\n",
    "    return data"
   ]
  },
  {
   "cell_type": "code",
   "execution_count": null,
   "metadata": {},
   "outputs": [],
   "source": [
    "region = [\n",
    "            '0100000000000',\n",
    "            '0200000000000',\n",
    "            '0300000000000',\n",
    "            '0400000000000',\n",
    "            '0500000000000',\n",
    "            '0600000000000',\n",
    "            '0700000000000',\n",
    "            '0800000000000',\n",
    "            '0900000000000',\n",
    "            '1000000000000',\n",
    "            '1100000000000',\n",
    "            '1200000000000',\n",
    "            '1300000000000',\n",
    "            '1400000000000',\n",
    "            '1500000000000',\n",
    "            '1600000000000',\n",
    "            '1700000000000',\n",
    "            '1800000000000',\n",
    "            '1900000000000',\n",
    "            '2000000000000',\n",
    "            '2100000000000',\n",
    "            '2200000000000',\n",
    "            '2300000000000',\n",
    "            '2400000000000',\n",
    "            '2500000000000',\n",
    "            '2600000000000',\n",
    "            '2700000000000',\n",
    "            '2800000000000',\n",
    "            '2900000000000',\n",
    "            '3000000000000',\n",
    "            '3100000000000',\n",
    "            '3200000000000',\n",
    "            '3300000000000',\n",
    "            '3400000000000',\n",
    "            '3500000000000',\n",
    "            '3600000000000',\n",
    "            '3700000000000',\n",
    "            '3800000000000',\n",
    "            '3900000000000',\n",
    "            '4000000000000',\n",
    "            '4100000000000',\n",
    "            '4200000000000',\n",
    "            '4300000000000',\n",
    "            '4400000000000',\n",
    "            '4500000000000',\n",
    "            '4600000000000',\n",
    "            '4700000000000',\n",
    "            '4800000000000',\n",
    "            '4900000000000',\n",
    "            '5000000000000',\n",
    "            '5100000000000',\n",
    "            '5200000000000',\n",
    "            '5300000000000',\n",
    "            '5400000000000',\n",
    "            '5500000000000',\n",
    "            '5600000000000',\n",
    "            '5700000000000',\n",
    "            '5800000000000',\n",
    "            '5900000000000',\n",
    "            '6000000000000',\n",
    "            '6100000000000',\n",
    "            '6200000000000',\n",
    "            '6300000000000',\n",
    "            '6400000000000',\n",
    "            '6500000000000',\n",
    "            '6600000000000',\n",
    "            '6700000000000',\n",
    "            '6800000000000',\n",
    "            '6900000000000',\n",
    "            '7000000000000',\n",
    "            '7100000000000',\n",
    "            '7200000000000',\n",
    "            '7300000000000',\n",
    "            '7400000000000',\n",
    "            '7500000000000',\n",
    "            '7600000000000',\n",
    "            '7700000000000',\n",
    "            '7800000000000',\n",
    "            '7900000000000',\n",
    "            '8300000000000',\n",
    "            '8600000000000',\n",
    "            '8700000000000',\n",
    "            '8900000000000',\n",
    "            '9100000000000',\n",
    "            '9200000000000',\n",
    "        ]"
   ]
  },
  {
   "cell_type": "code",
   "execution_count": null,
   "metadata": {},
   "outputs": [],
   "source": [
    "# request vacancies in Medicine for each region, starting from 01 Jan 2022 \n",
    "# calculate an offset for each region and get all of the results for a region, \n",
    "# store each request with 100 vacancies titled by the number of the region and sequence number of the offset\n",
    "\n",
    "for i in tqdm(region):\n",
    "    page_result = get_salaries_by_region(region_code=i, industry=\"Medicine\", start=\"01-01-2022\", text=\"акушер\")\n",
    "    total = page_result[\"meta\"][\"total\"]\n",
    "    offset = list(range(0,math.ceil(total/100)))\n",
    "    \n",
    "    for o in offset:\n",
    "        page_result = get_salaries_by_region(offset=str(o), limit=100, region_code=i, industry=\"Medicine\", text=\"акушер\")\n",
    "\n",
    "        with open('../output/API 3.0/'+i+'_'+str(o)+'.json', 'w') as json_file:\n",
    "            json.dump(page_result, json_file)\n",
    "        \n",
    "        sleep(0.0001)"
   ]
  },
  {
   "cell_type": "code",
   "execution_count": null,
   "metadata": {},
   "outputs": [],
   "source": [
    "import os\n",
    "\n",
    "# a function to get all data from trudvsem API with offset\n",
    "for i in tqdm(region):\n",
    "    file_path = '../output/API 3.0/' + i + '_0.json'\n",
    "    if not os.path.exists(file_path):\n",
    "        continue\n",
    "    with open(file_path, 'r') as f:\n",
    "        json_data = json.loads(f.read())\n",
    "        total = json_data['meta']['total']\n",
    "        offset = list(range(0, math.ceil(total / 100)))\n",
    "\n",
    "        all_units = []\n",
    "\n",
    "    for o in offset:\n",
    "        json_file = \"../output/API 3.0/\" + i + \"_\" + str(o) + \".json\"\n",
    "        if not os.path.exists(json_file):\n",
    "            continue\n",
    "        with open(json_file, 'r') as f:\n",
    "            json_data = json.loads(f.read())\n",
    "            vacancies = json_data['results']['vacancies']\n",
    "\n",
    "        for unit in vacancies:\n",
    "            flat = flatten(unit)\n",
    "            all_units.append(flat)\n",
    "        sleep(0.0001)\n",
    "\n",
    "    df = pd.DataFrame(all_units)\n",
    "    df.to_csv('../output/API 3.0/merged_obgyn_' + i + '.csv')\n",
    "print(\"all done!\")"
   ]
  },
  {
   "cell_type": "code",
   "execution_count": null,
   "metadata": {},
   "outputs": [],
   "source": [
    "merge = pd.read_csv('../output/API 3.0/merged_obgyn_'+str(region[0])+'.csv')\n",
    "\n",
    "# open each file with region code\n",
    "for i in tqdm(region[1:]):\n",
    "    # print(i)\n",
    "    file_path = '../output/API 3.0/merged_obgyn_' + i + '.csv'\n",
    "    if not os.path.exists(file_path):\n",
    "        continue\n",
    "    df = pd.read_csv(file_path)\n",
    "    merge = pd.concat([merge, df])\n",
    "\n",
    "print(merge.iloc[:10, [1,3,5]])"
   ]
  },
  {
   "cell_type": "code",
   "execution_count": null,
   "metadata": {},
   "outputs": [],
   "source": [
    "merge.to_csv('../output/API 3.0/MAIN dataset.csv')"
   ]
  },
  {
   "cell_type": "markdown",
   "metadata": {},
   "source": [
    "## Анализ вакансий \"Работа в России\""
   ]
  },
  {
   "cell_type": "markdown",
   "metadata": {},
   "source": [
    "### Загрузка и очистка данных"
   ]
  },
  {
   "cell_type": "code",
   "execution_count": null,
   "metadata": {},
   "outputs": [],
   "source": [
    "df = pd.read_csv('../output/API 3.0/MAIN dataset.csv')\n",
    "df.head(3)"
   ]
  },
  {
   "cell_type": "code",
   "execution_count": null,
   "metadata": {},
   "outputs": [],
   "source": [
    "df.shape"
   ]
  },
  {
   "cell_type": "code",
   "execution_count": null,
   "metadata": {},
   "outputs": [],
   "source": [
    "# to clean up raw dataset\n",
    "df.columns = [col.replace('vacancy_', '') for col in df.columns]\n",
    "df = df.drop(['Unnamed: 0', 'Unnamed: 0.1'], axis=1)\n",
    "# приводим коды профессий и дату создания вакансии к удобному формату данных\n",
    "df['code_profession'] = df['code_profession'].astype('string')\n",
    "df['creation-date']=df['creation-date'].astype('datetime64[ns]')"
   ]
  },
  {
   "cell_type": "code",
   "execution_count": null,
   "metadata": {},
   "outputs": [],
   "source": [
    "df.columns"
   ]
  },
  {
   "cell_type": "code",
   "execution_count": null,
   "metadata": {},
   "outputs": [],
   "source": [
    "df = df[['id', 'region_region_code', 'region_name', 'vac_url', 'creation-date', 'code_profession', 'job-name', 'employment', 'salary_min', 'salary_max', 'duty', 'term_text']]\n",
    "df.tail(3)"
   ]
  },
  {
   "cell_type": "code",
   "execution_count": null,
   "metadata": {},
   "outputs": [],
   "source": [
    "# for MAIN df w/o personnel\n",
    "print(f\"Кол-во строк и столбцов:{df.shape}\", \"\\nНазвание колонок:\\n\", df.columns)"
   ]
  },
  {
   "cell_type": "code",
   "execution_count": null,
   "metadata": {},
   "outputs": [],
   "source": [
    "pd.set_option('display.max_rows', 1000)\n",
    "df.isnull().sum()"
   ]
  },
  {
   "cell_type": "code",
   "execution_count": null,
   "metadata": {},
   "outputs": [],
   "source": [
    "df['region_name'].isna().describe()"
   ]
  },
  {
   "cell_type": "code",
   "execution_count": null,
   "metadata": {},
   "outputs": [],
   "source": [
    "df['code_profession'].value_counts()"
   ]
  },
  {
   "cell_type": "code",
   "execution_count": null,
   "metadata": {},
   "outputs": [],
   "source": [
    "# по коду профессии ОКПДТР удаляем вакансии, которые не относятся к акушерству \n",
    "df['code_profession'] = df['code_profession'].astype('string')\n",
    "irrelevant_codes = ['181121.0', '204751.0', '204613.0', '221047.0', '192588.0', '260215.0', '260732.0']\n",
    "df = df[~df['code_profession'].isin(irrelevant_codes)]"
   ]
  },
  {
   "cell_type": "code",
   "execution_count": null,
   "metadata": {},
   "outputs": [],
   "source": [
    "# add_updates = df[['id', 'vac_url']].copy()\n",
    "# add_updates.to_csv('../output/add_updates.csv', index=False)"
   ]
  },
  {
   "cell_type": "markdown",
   "metadata": {},
   "source": [
    "### Преобразование данных"
   ]
  },
  {
   "cell_type": "code",
   "execution_count": null,
   "metadata": {},
   "outputs": [],
   "source": [
    "# удаляем лишние колонки с индексами и вакансии, размещенные раньше мая 2023 года\n",
    "# df = df.loc[df['creation-date'] >= '2023-05-01']"
   ]
  },
  {
   "cell_type": "code",
   "execution_count": null,
   "metadata": {},
   "outputs": [],
   "source": [
    "personnel = pd.read_csv('../data/personnel category.csv')\n",
    "personnel['code_profession'] = personnel['code_profession'].astype('string')"
   ]
  },
  {
   "cell_type": "code",
   "execution_count": null,
   "metadata": {},
   "outputs": [],
   "source": [
    "code_to_personnel = dict(zip(personnel['code_profession'], personnel['вид персонала']))\n",
    "\n",
    "def assign_personnel(code_profession):\n",
    "    # Return the personnel category for the given code_profession, or None if not found\n",
    "    return code_to_personnel.get(code_profession, None)\n",
    "\n",
    "df['personnel'] = df['code_profession'].apply(assign_personnel)"
   ]
  },
  {
   "cell_type": "code",
   "execution_count": null,
   "metadata": {},
   "outputs": [],
   "source": [
    "df['personnel'].value_counts()"
   ]
  },
  {
   "cell_type": "code",
   "execution_count": null,
   "metadata": {},
   "outputs": [],
   "source": [
    "df.to_excel('../output/API 3.0/MAIN dataset with personnel.xlsx', index=False)"
   ]
  },
  {
   "cell_type": "markdown",
   "metadata": {},
   "source": [
    "### Осмотр данных (MAIN w/ personnel)"
   ]
  },
  {
   "cell_type": "code",
   "execution_count": null,
   "metadata": {},
   "outputs": [],
   "source": [
    "df = pd.read_excel('../output/API 3.0/MAIN dataset with personnel.xlsx', sheet_name='Sheet1')\n",
    "df.shape"
   ]
  },
  {
   "cell_type": "code",
   "execution_count": null,
   "metadata": {},
   "outputs": [],
   "source": [
    "df.columns"
   ]
  },
  {
   "cell_type": "code",
   "execution_count": null,
   "metadata": {},
   "outputs": [],
   "source": [
    "df['region_name'].value_counts().to_clipboard()"
   ]
  },
  {
   "cell_type": "code",
   "execution_count": null,
   "metadata": {},
   "outputs": [],
   "source": [
    "# For every unique code_profession, find the most common job-name\n",
    "most_common_jobname = (\n",
    "    df.groupby('code_profession')['job-name']\n",
    "    .agg(lambda x: x.mode().iloc[0] if not x.mode().empty else None)\n",
    "    .reset_index()\n",
    "    .rename(columns={'job-name': 'most_common_job_name'})\n",
    ")\n",
    "most_common_jobname"
   ]
  },
  {
   "cell_type": "code",
   "execution_count": null,
   "metadata": {},
   "outputs": [],
   "source": [
    "# # прочесть описание вакансии по ссылке, используя код ОКПДТР\n",
    "# pd.set_option('display.max_colwidth', None)\n",
    "# df.loc[df['code_profession'] == '260732.0', 'vac_url']"
   ]
  },
  {
   "cell_type": "markdown",
   "metadata": {},
   "source": [
    "#### Кол-во вакансий"
   ]
  },
  {
   "cell_type": "code",
   "execution_count": null,
   "metadata": {},
   "outputs": [],
   "source": [
    "df['year'] = df['creation-date'].dt.year\n",
    "regions_per_year_personnel = (\n",
    "    df.groupby(['year', 'personnel'])['region_name']\n",
    "    .nunique()\n",
    "    .unstack(fill_value=0)\n",
    ")\n",
    "print(regions_per_year_personnel)"
   ]
  },
  {
   "cell_type": "code",
   "execution_count": null,
   "metadata": {},
   "outputs": [],
   "source": [
    "# Group by month and personnel, count number of vacancies\n",
    "vacancies_by_month_personnel = (\n",
    "    df_2024_2025.groupby(['month', 'personnel'])['id']\n",
    "    .count()\n",
    "    .unstack(fill_value=0)\n",
    "    .sort_index()\n",
    ")\n",
    "\n",
    "print(vacancies_by_month_personnel)\n"
   ]
  },
  {
   "cell_type": "markdown",
   "metadata": {},
   "source": [
    "#### Зарплата в целом"
   ]
  },
  {
   "cell_type": "code",
   "execution_count": null,
   "metadata": {},
   "outputs": [],
   "source": [
    "# Группировка по code_profession и расчет средних значений salary_min и salary_max\n",
    "df.groupby('personnel')[['salary_min', 'salary_max']].mean().loc[\n",
    "    df['personnel'].value_counts(ascending=False).index\n",
    "]"
   ]
  },
  {
   "cell_type": "code",
   "execution_count": null,
   "metadata": {},
   "outputs": [],
   "source": [
    "top10_salary_min = df.groupby('region_name')['salary_min'].min().sort_values(ascending=False).tail(10)\n",
    "top10_salary_min"
   ]
  },
  {
   "cell_type": "code",
   "execution_count": null,
   "metadata": {},
   "outputs": [],
   "source": [
    "# Calculate median salary_min and salary_max for each region and personnel\n",
    "median_salary_min = df.groupby(['region_name', 'personnel'])['salary_min'].median()\n",
    "median_salary_max = df.groupby(['region_name', 'personnel'])['salary_max'].median()\n",
    "\n",
    "# Combine into a DataFrame\n",
    "median_salaries = pd.DataFrame({\n",
    "    'median_salary_min': median_salary_min,\n",
    "    'median_salary_max': median_salary_max\n",
    "})\n",
    "\n",
    "# Calculate the average of the two medians for each region and personnel\n",
    "median_salaries['median_salary_avg'] = median_salaries[['median_salary_min', 'median_salary_max']].mean(axis=1)\n",
    "\n",
    "# Copy the average median salary to clipboard\n",
    "median_salaries['median_salary_avg'].to_clipboard()"
   ]
  },
  {
   "cell_type": "code",
   "execution_count": null,
   "metadata": {},
   "outputs": [],
   "source": [
    "median_salary_table = df.groupby(['region_name', 'personnel'])['salary_min'].median().unstack()\n",
    "median_salary_table.to_clipboard()\n",
    "# print(median_salary_table)\n",
    "# median_salary_table.to_excel('../output/salaries_by_region.xlsx')"
   ]
  },
  {
   "cell_type": "code",
   "execution_count": null,
   "metadata": {},
   "outputs": [],
   "source": [
    "df['region_name'].value_counts()"
   ]
  },
  {
   "cell_type": "code",
   "execution_count": null,
   "metadata": {},
   "outputs": [],
   "source": [
    "df[df['personnel'] == 'средний']['region_name'].value_counts(ascending=False)"
   ]
  },
  {
   "cell_type": "code",
   "execution_count": null,
   "metadata": {},
   "outputs": [],
   "source": [
    "# зарплаты ниже мрот 2025 года\n",
    "pd.set_option('display.max_colwidth', None)\n",
    "df.loc[df['salary_min'] < 22440, 'vac_url']"
   ]
  },
  {
   "cell_type": "code",
   "execution_count": null,
   "metadata": {},
   "outputs": [],
   "source": [
    "# выделяем из массива данных только вакансии с полной занятостью\n",
    "# filtered_df = filtered_df[filtered_df['vacancy_employment'] == 'Полная занятость']"
   ]
  },
  {
   "cell_type": "code",
   "execution_count": null,
   "metadata": {},
   "outputs": [],
   "source": [
    "df[(df['salary_min'] <= 22440) & (df['employment'] == 'Полная занятость')]['region_name'].describe()"
   ]
  },
  {
   "cell_type": "markdown",
   "metadata": {},
   "source": [
    "### Визуализация данных"
   ]
  },
  {
   "cell_type": "code",
   "execution_count": null,
   "metadata": {},
   "outputs": [],
   "source": [
    "# which schools are searching for the majority of vacancies by region\n",
    "most_frequent_schools = filtered_df.groupby('vacancy_region_name')['company_name_copy'].value_counts().reset_index(name='count')\n",
    "most_frequent_schools.columns = ['vacancy_region_name', 'Most Frequent School', 'Count']\n",
    "most_frequent_schools = most_frequent_schools.sort_values(by='Count', ascending=False)\n",
    "most_frequent_schools = most_frequent_schools.drop_duplicates(subset='vacancy_region_name')\n",
    "total_vacancies = filtered_df.groupby('vacancy_region_name')['vacancy_id'].count().reset_index(name='Total Vacancies')\n",
    "most_frequent_schools = most_frequent_schools.merge(total_vacancies, on='vacancy_region_name')\n",
    "\n",
    "most_frequent_schools.to_clipboard()"
   ]
  },
  {
   "cell_type": "code",
   "execution_count": null,
   "metadata": {},
   "outputs": [],
   "source": [
    "# which regions have mean salaries higher than Rosstat 2024 average (58109)\n",
    "mean_salary_by_region = filtered_df.groupby('vacancy_region_name')['vacancy_salary_min'].mean()\n",
    "filter_regions = mean_salary_by_region[mean_salary_by_region >= 58109].index.tolist()\n",
    "filtered_df[filtered_df['vacancy_region_name'].isin(filter_regions)]['vacancy_region_name'].value_counts()"
   ]
  },
  {
   "cell_type": "code",
   "execution_count": null,
   "metadata": {},
   "outputs": [],
   "source": [
    "plt.figure(figsize=(8, 8))\n",
    "sns.boxplot(data=df, x='personnel', y='salary_min')\n",
    "plt.xlabel('Категория персонала')\n",
    "plt.ylabel('Минимальная зарплата')\n",
    "plt.title('Boxplot минимальной зарплаты по категории персонала')\n",
    "plt.xticks(rotation=45)\n",
    "plt.tight_layout()\n",
    "plt.show()"
   ]
  },
  {
   "cell_type": "code",
   "execution_count": null,
   "metadata": {},
   "outputs": [],
   "source": [
    "counts = df[df['personnel'] == 'старший']['region_name'].value_counts(ascending=False).head(10)\n",
    "plt.figure(figsize=(14, 8))\n",
    "counts.plot(kind='barh', color='skyblue')\n",
    "plt.xlabel('Количество вакансий')\n",
    "plt.ylabel('Регион')\n",
    "plt.title('Топ-10 регионов по количеству вакансий для врачей акушеров-гинекологов')\n",
    "plt.tight_layout()\n",
    "plt.show()"
   ]
  },
  {
   "cell_type": "code",
   "execution_count": null,
   "metadata": {},
   "outputs": [],
   "source": [
    "plt.figure(figsize=(12, 6))\n",
    "# Convert 'creation-date' to datetime and count vacancies per date\n",
    "date_counts = pd.to_datetime(df['creation-date']).value_counts().sort_index()\n",
    "plt.bar(date_counts.index, date_counts.values, width=5)\n",
    "plt.xlabel('Дата создания вакансии')\n",
    "plt.ylabel('Количество вакансий')\n",
    "plt.title('Распределение вакансий по дате создания')\n",
    "plt.tight_layout()\n",
    "plt.show()"
   ]
  },
  {
   "cell_type": "code",
   "execution_count": null,
   "metadata": {},
   "outputs": [],
   "source": [
    "# Setting the position of the bars on the y-axis\n",
    "bar_width = 0.35  # Width of the bars\n",
    "\n",
    "# Creating the bar chart\n",
    "fig, ax = plt.subplots(figsize=(14, 20))\n",
    "\n",
    "# Positions of the bars on the y-axis\n",
    "y_positions = range(len(graph_data['region']))\n",
    "\n",
    "# Plotting the bars\n",
    "ax.barh(y_positions, graph_data['mean salary'], height=bar_width, color='blue', label='Росстат')\n",
    "ax.barh([p + bar_width for p in y_positions], graph_data['mean salary RaRu'], height=bar_width, color='red', label='Работа в России')\n",
    "\n",
    "# Adding labels\n",
    "ax.set_yticks([p + bar_width / 2 for p in y_positions])\n",
    "ax.set_yticklabels(graph_data['region'])\n",
    "ax.set_xlabel('Средняя зарплата, тыс. руб.')\n",
    "ax.set_title('Средняя зарплата учителей в январе-марте 2024 г. по регионам')\n",
    "ax.legend()\n",
    "\n",
    "# Inverting the y-axis to have the first region on top\n",
    "plt.gca().invert_yaxis()\n",
    "\n",
    "# Show the plot\n",
    "plt.tight_layout()\n",
    "plt.show()"
   ]
  },
  {
   "cell_type": "code",
   "execution_count": null,
   "metadata": {},
   "outputs": [],
   "source": [
    "# # горизонтальная столбиковая диаграмма регионов по количеству вакансий в 2023 году\n",
    "# most_vacancies.sort_values(ascending=True).plot(kind='barh', figsize=(10, 6), color='skyblue')\n",
    "# plt.title('Топ-10 регионов по количеству вакансий в 2024 году')\n",
    "# plt.ylabel('Регион')\n",
    "# plt.xlabel('Кол-во вакансий')\n",
    "# plt.show()"
   ]
  },
  {
   "cell_type": "code",
   "execution_count": null,
   "metadata": {},
   "outputs": [],
   "source": [
    "data = filtered_df.loc[filtered_df['vacancy_salary_min'] != 0]\n",
    "# data = data.loc[data['vacancy_creation-date'].dt.year >= 2023]"
   ]
  },
  {
   "cell_type": "code",
   "execution_count": null,
   "metadata": {},
   "outputs": [],
   "source": [
    "graph_data = data['vacancy_salary_min']\n",
    "g_weights = np.ones(len(graph_data))/len(graph_data)\n",
    "\n",
    "fig, ax = plt.subplots(figsize=(15, 5))\n",
    "\n",
    "# Creating the histogram with relatively thin bars\n",
    "plt.hist(graph_data, bins=50, weights=g_weights, edgecolor = 'black')\n",
    "plt.gca().yaxis.set_major_formatter(PercentFormatter(1))\n",
    "plt.xlabel('Размер зарплаты')\n",
    "plt.ylabel('Доля вакансий')\n",
    "plt.title('Зарплаты учителей на портале trudvsem.ru')\n",
    "plt.show()"
   ]
  },
  {
   "cell_type": "code",
   "execution_count": null,
   "metadata": {},
   "outputs": [],
   "source": [
    "# # an iterative function to find a datapoint based on the name of the datapoint and the upper layer\n",
    "# def recurs_find_key(key, obj): \n",
    "# \tif obj == None:\n",
    "# \t\treturn None\n",
    "# \telse:\n",
    "# \t\tif key in obj:\n",
    "# \t\t\treturn obj[key]\n",
    "# \t\tif type(obj) == dict or type(obj) == list: \n",
    "# \t\t\tfor k, v in obj.items(): \n",
    "# \t\t\t\tif type(v) == dict:\n",
    "# \t\t\t\t\tresult = recurs_find_key(key, v)\n",
    "# \t\t\t\t\treturn result\n",
    "# \t\t\t\telif type(v) == list:\n",
    "# \t\t\t\t\tfor el in range(len(v)):\n",
    "# \t\t\t\t\t\tresult = recurs_find_key(key, v[el-1])\n",
    "# \t\t\t\t\t\treturn result\n"
   ]
  }
 ],
 "metadata": {
  "kernelspec": {
   "display_name": "API-2I7L_qJq",
   "language": "python",
   "name": "python3"
  },
  "language_info": {
   "codemirror_mode": {
    "name": "ipython",
    "version": 3
   },
   "file_extension": ".py",
   "mimetype": "text/x-python",
   "name": "python",
   "nbconvert_exporter": "python",
   "pygments_lexer": "ipython3",
   "version": "3.9.21"
  }
 },
 "nbformat": 4,
 "nbformat_minor": 2
}
